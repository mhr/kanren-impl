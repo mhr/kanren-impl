{
 "cells": [
  {
   "cell_type": "markdown",
   "id": "5907c58a",
   "metadata": {},
   "source": [
    "# microKanren Implementation"
   ]
  },
  {
   "cell_type": "markdown",
   "id": "c84fc092",
   "metadata": {},
   "source": [
    "- http://webyrd.net/scheme-2013/papers/HemannMuKanren2013.pdf\n",
    "- https://github.com/ashton314/muKanren_reading/blob/master/kanren.rkt (annotated Racket version)\n",
    "- I modified ashton314's version slightly to use a simpler `unify` taken from the original muKanren paper\n",
    "\n",
    "\"The entire system is comprised of a handful of functions for the implementation of variables, streams themselves, the interface for creating and combining streams, and four primitive goal constructors.\" --muKanren paper"
   ]
  },
  {
   "cell_type": "code",
   "execution_count": 60,
   "id": "3f754d99",
   "metadata": {
    "vscode": {
     "languageId": "racket"
    }
   },
   "outputs": [],
   "source": [
    "(require racket/set) ; need to deduplicate at the end"
   ]
  },
  {
   "cell_type": "code",
   "execution_count": 59,
   "id": "7393a007",
   "metadata": {
    "vscode": {
     "languageId": "racket"
    }
   },
   "outputs": [],
   "source": [
    "(struct var (name) #:transparent)\n",
    "(define var=? equal?)\n",
    "\n",
    ";;                    substitution assoc list: variable → var-or-value\n",
    ";;                    |    fresh variable counter\n",
    ";;                    ↓    ↓\n",
    "(define empty-state '(() . 0))\n",
    "\n",
    ";; find a variable's value in the substitution\n",
    "(define (walk varname subst)\n",
    "  (let ([var-or-val (and (var? varname)\n",
    "                         (assp (lambda (v) (var=? varname v)) subst))])\n",
    "    (if var-or-val                      ; Was it a variable we got, and did it have a\n",
    "        (walk (cdr var-or-val) subst)   ; reference? If yes, follow the new variable.\n",
    "        varname)))                      ; Otherwise, we have a value OR an unbound var.\n",
    "\n",
    ";; Needed because Racket doesn't implement R6RS's assp function\n",
    ";; natively afaik\n",
    "(define (assp ? lst)\n",
    "  (if (null? lst)\n",
    "      #f\n",
    "      (if (? (caar lst))\n",
    "          (car lst)\n",
    "          (assp ? (cdr lst)))))\n",
    "\n",
    "(define (occurs-check x v subst)\n",
    "  (let ([v (walk v subst)])\n",
    "    (if (var? v)\n",
    "        (var=? v x)\n",
    "        (and (pair? v) (or (occurs-check x (car v) subst)\n",
    "                           (occurs-check x (cdr v) subst))))))\n",
    "\n",
    "(define (extend-subst var val subst)\n",
    "  (if (occurs-check var val subst)\n",
    "      #f\n",
    "      (cons (cons var val) subst)))\n",
    "\n",
    ";;; Goal constructors\n",
    "\n",
    "(define (== u v)\n",
    "  (lambda (subst/counter)\n",
    "    (let ([newsubst (unify u v (car subst/counter))])\n",
    "      (if newsubst\n",
    "          ;; If we did get a new subst list, keep the old counter, but\n",
    "          ;; put this new subst set onto the state.\n",
    "          (unit (cons newsubst (cdr subst/counter)))\n",
    "          mzero))))\n",
    "\n",
    ";; Ah, yes, a monad\n",
    "(define (unit subst/counter) (cons subst/counter mzero))\n",
    "(define mzero '())\n",
    "\n",
    ";; took this version of `unify` from the original paper\n",
    "(define (unify u v s)\n",
    "  (let ((u (walk u s)) (v (walk v s)))\n",
    "    (cond\n",
    "      [(and (var? u) (var? v) (var=? u v)) s]\n",
    "      [(var? u) (extend-subst u v s)]\n",
    "      [(var? v) (extend-subst v u s)]\n",
    "      [(and (pair? u) (pair? v))\n",
    "       (let [(s (unify (car u) (car v) s))]\n",
    "         (and s (unify (cdr u) (cdr v) s)))]\n",
    "      [else (and (eqv? u v) s)])))\n",
    "\n",
    ";; goal :: state -> state*\n",
    ";; call/fresh :: (var -> goal) -> goal\n",
    "(define (call/fresh fn)\n",
    "  (lambda (subst/counter)\n",
    "    (let ([counter (cdr subst/counter)])\n",
    "      ((fn (var counter))\n",
    "       (cons (car subst/counter) (+ counter 1))))))\n",
    "\n",
    "(define (disj goal1 goal2)\n",
    "  (lambda (subst/counter)\n",
    "    ;; add the results of two streams of states\n",
    "    (mplus (goal1 subst/counter)\n",
    "           (goal2 subst/counter))))\n",
    "\n",
    "(define (conj goal1 goal2)\n",
    "  (lambda (subst/counter)\n",
    "    ;; thread stream of states from running one goal through another\n",
    "    (bind (goal1 subst/counter)\n",
    "          goal2)))\n",
    "\n",
    ";; mplus: like zip-list but for streams (which may be lazy)\n",
    "(define (mplus stream1 stream2)\n",
    "  (cond\n",
    "    [(null? stream1) stream2]\n",
    "    ;; handle the case where stream1 is a lazy stream; note how we\n",
    "    ;; flip the order of the streams so we interleave them\n",
    "    [(procedure? stream1) (lambda () (mplus stream2 (stream1)))]\n",
    "    [else (cons (car stream1) (mplus stream2 (cdr stream1)))]))\n",
    "\n",
    ";; bind: like map for a stream of states with a goal\n",
    "(define (bind $stream goal)\n",
    "  (cond\n",
    "    [(null? $stream) mzero]\n",
    "    ;; force the thunk and run again\n",
    "    [(procedure? $stream) (lambda () (bind ($stream) goal))]\n",
    "    ;; join the stream of states from running the goal on the first\n",
    "    ;; state in the input stream with the result of running on the\n",
    "    ;; rest of the states in the input stream\n",
    "    [else (mplus (goal (car $stream))\n",
    "                 (bind (cdr $stream) goal))]))\n",
    "\n",
    ";;; Extentions\n",
    "\n",
    "(define-syntax Zzz\n",
    "  (syntax-rules ()\n",
    "    ;; This is the inverse-η-delay abstracted in a macro\n",
    "    [(_ goal) (lambda (subst/counter) (lambda () (goal subst/counter)))]))\n",
    "\n",
    "(define-syntax conj+\n",
    "  (syntax-rules ()\n",
    "    [(_ g) (Zzz g)]\n",
    "    [(_ g0 gs ...) (conj (Zzz g0) (conj+ gs ...))]))\n",
    "\n",
    "(define-syntax disj+\n",
    "  (syntax-rules ()\n",
    "    [(_ g) (Zzz g)]\n",
    "    [(_ g0 gs ...) (disj (Zzz g0) (disj+ gs ...))]))\n",
    "\n",
    "(define-syntax conde\n",
    "  ;; call like\n",
    "  ;;\n",
    "  ;; (define (father p s)\n",
    "  ;;   (conde ((== p 'paul) (== s 'jason))\n",
    "  ;;          ((== p 'john) (== s 'henry))\n",
    "  ;;          ((== p 'jason) (== s 'tom))\n",
    "  ;;          ((== p 'peter) (== s 'brian))\n",
    "  ;;          ((== p 'tom) (== s 'peter))))\n",
    "  ;;\n",
    "  ;; it is `or' applied across the subgroups of goals which are joined by `and'\n",
    "  (syntax-rules ()\n",
    "    [(_ (g gs ...) ...) (disj+ (conj+ g gs ...) ...)]))\n",
    "\n",
    "(define-syntax fresh\n",
    "  (syntax-rules ()\n",
    "    [(_ () g gs ...) (conj+ g gs ...)]\n",
    "    [(_ (x xs ...) g gs ...)\n",
    "     (call/fresh (lambda (x) (fresh (xs ...) g gs ...)))]))\n",
    "\n",
    ";;; Utilities to force streams\n",
    "(define (pull $stream)\n",
    "  (if (procedure? $stream)\n",
    "    (pull ($stream))\n",
    "    $stream))\n",
    "\n",
    "(define (take n $stream)\n",
    "  (if (zero? n) '()\n",
    "      (let ([$stream (pull $stream)])\n",
    "        (cond\n",
    "          [(null? $stream) '()]\n",
    "          [else (cons (car $stream) (take (- n 1) (cdr $stream)))]))))\n",
    "\n",
    "(define (take-all $stream)\n",
    "  (let ([$stream (pull $stream)])\n",
    "    (if (null? $stream) '() (cons (car $stream) (take-all (cdr $stream))))))\n",
    "\n",
    ";;; Reification utilities\n",
    "(define (mK-reify s/c*)\n",
    "  (map reify-state/1st-var s/c*))\n",
    "\n",
    "(define (reify-state/1st-var s/c)\n",
    "  (let ([v (walk* (var 0) (car s/c))])\n",
    "    (walk* v (reify-s v '()))))\n",
    "\n",
    "(define (reify-s v s)\n",
    "  (let ([v (walk v s)])\n",
    "    (cond\n",
    "      [(var? v)\n",
    "       (let ([n (reify-name (var-name v))])\n",
    "         (cons (cons v n) s))]\n",
    "      [(pair? v) (reify-s (cdr v) (reify-s (car v) s))]\n",
    "      [else s])))\n",
    "\n",
    "(define (reify-name n)\n",
    "  (if (symbol? n)\n",
    "      n\n",
    "      (string->symbol (string-append \"_\" \".\" (number->string n)))))\n",
    "\n",
    "(define (walk* v s)\n",
    "  (let ([v (walk v s)])\n",
    "    (cond\n",
    "      [(var? v) v]\n",
    "      [(pair? v) (cons (walk* (car v) s)\n",
    "                       (walk* (cdr v) s))]\n",
    "      [else v])))\n",
    "\n",
    "(define (call/empty-state g) (g empty-state))\n",
    "\n",
    ";;; Use these to wrap your queries: run takes a number of n solutions\n",
    ";;; to the program, while run* calls `take-all'.\n",
    "(define-syntax run\n",
    "  (syntax-rules ()\n",
    "    [(_ n (xs ...) g gs ...)\n",
    "     (mK-reify (take n (call/empty-state\n",
    "                        (fresh (xs ...) g gs ...))))]))\n",
    "\n",
    "(define-syntax run*\n",
    "  (syntax-rules ()\n",
    "    [(_ (xs ...) g gs ...)\n",
    "     (mK-reify (take-all (call/empty-state\n",
    "                          (fresh (xs ...) g gs ...))))]))"
   ]
  },
  {
   "cell_type": "code",
   "execution_count": 57,
   "id": "a156af4b",
   "metadata": {
    "vscode": {
     "languageId": "racket"
    }
   },
   "outputs": [],
   "source": [
    "(define (parent c p)\n",
    "  (conde\n",
    "   [(== c 'teddy) (== p 'saraih)]\n",
    "   [(== c 'andrew) (== p 'steve)]\n",
    "   [(== c 'brook) (== p 'steve)]\n",
    "   [(== c 'caroline) (== p 'steve)]\n",
    "   [(== c 'peter) (== p 'steve)]\n",
    "   [(== c 'steve) (== p 'bill)]\n",
    "   [(== c 'roger) (== p 'bill)]\n",
    "   [(== c 'will) (== p 'roger)]\n",
    "   [(== c 'andy) (== p 'roger)]\n",
    "   [(== c 'earnest) (== p 'roger)]\n",
    "   [(== c 'jack) (== p 'bill)]\n",
    "   [(== c 'anne) (== p 'john)]\n",
    "   [(== c 'danni) (== p 'john)]\n",
    "   [(fresh (s) (married p s) (parent c s))]\n",
    "   [(fresh (s) (married s p) (parent c s))]))\n",
    "\n",
    "(define (married h w)\n",
    "  (conde\n",
    "   [(== h 'steve) (== w 'anne)]\n",
    "   [(== h 'nate) (== w 'danni)]\n",
    "   [(== h 'bill) (== w 'katie)]\n",
    "   [(== h 'john) (== w 'kitty)]\n",
    "   [(== h 'andrew) (== w 'saraih)]))\n",
    "\n",
    "(define (grandparent g s)\n",
    "  (fresh (p) (parent g p) (parent p s)))\n",
    "\n",
    "(define (cousin c1 c2)\n",
    "  (fresh (gp)\n",
    "         (grandparent c1 gp)\n",
    "         (grandparent c2 gp)))\n",
    "\n",
    ";; (run 20 (rel p c) (conj+ (grandparent c p) (== (cons c p) rel)))\n",
    ";; (list->set (run 10 (gp) (grandparent 'andrew gp)))\n",
    "\n",
    ";; unfortunately we need to gather 93 results until we get all the\n",
    ";; answers for bill's grandchildren:\n",
    ";; (list->set (run 93 (c) (grandparent c 'bill)))\n",
    "\n",
    "(define (fav-num n)\n",
    "  (disj (== n 42)\n",
    "        (== (cons '? even?) n)))"
   ]
  },
  {
   "cell_type": "code",
   "execution_count": 58,
   "id": "5e70b3cc",
   "metadata": {
    "vscode": {
     "languageId": "racket"
    }
   },
   "outputs": [
    {
     "data": {
      "text/html": [
       "<code>(set 'caroline 'peter 'earnest 'andy 'will 'andrew 'brook)</code>"
      ],
      "text/plain": [
       "(set 'caroline 'peter 'earnest 'andy 'will 'andrew 'brook)"
      ]
     },
     "execution_count": 58,
     "metadata": {},
     "output_type": "execute_result"
    }
   ],
   "source": [
    "(list->set (run 93 (c) (grandparent c 'bill)))"
   ]
  },
  {
   "cell_type": "code",
   "execution_count": 61,
   "id": "0d3fad25",
   "metadata": {
    "vscode": {
     "languageId": "racket"
    }
   },
   "outputs": [],
   "source": [
    "(define appendo\n",
    "  (lambda (l s out)\n",
    "    (disj\n",
    "     (conj (== '() l) (== s out))\n",
    "     (call/fresh\n",
    "      (lambda (a)\n",
    "        (call/fresh\n",
    "         (lambda (d)\n",
    "           (conj\n",
    "            (== `(,a . ,d) l)\n",
    "            (call/fresh\n",
    "             (lambda (res)\n",
    "               (conj\n",
    "                (== `(,a . ,res) out)\n",
    "                (lambda (s/c)\n",
    "                  (lambda ()\n",
    "                    ((appendo d s res) s/c))))))))))))))"
   ]
  },
  {
   "cell_type": "code",
   "execution_count": 104,
   "id": "325b8337",
   "metadata": {
    "vscode": {
     "languageId": "racket"
    }
   },
   "outputs": [],
   "source": [
    "(define (query_appendo list1 list2 list3 result)\n",
    "    (appendo list1 list2 result))"
   ]
  },
  {
   "cell_type": "code",
   "execution_count": 105,
   "id": "6209b824",
   "metadata": {
    "vscode": {
     "languageId": "racket"
    }
   },
   "outputs": [
    {
     "data": {
      "text/html": [
       "<code>'((1 2 3 4))</code>"
      ],
      "text/plain": [
       "'((1 2 3 4))"
      ]
     },
     "execution_count": 105,
     "metadata": {},
     "output_type": "execute_result"
    }
   ],
   "source": [
    "(run* (q) (query_appendo '(1 2) '(3 4) '(1 2 3 4) q))"
   ]
  }
 ],
 "metadata": {
  "kernelspec": {
   "display_name": "Racket",
   "language": "racket",
   "name": "racket"
  },
  "language_info": {
   "codemirror_mode": "scheme",
   "file_extension": ".rkt",
   "mimetype": "text/x-racket",
   "name": "Racket",
   "pygments_lexer": "racket",
   "version": "8.2"
  }
 },
 "nbformat": 4,
 "nbformat_minor": 5
}
